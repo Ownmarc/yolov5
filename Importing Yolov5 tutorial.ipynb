{
 "cells": [
  {
   "cell_type": "code",
   "execution_count": 107,
   "metadata": {},
   "outputs": [],
   "source": [
    "import cv2\n",
    "from matplotlib import pyplot as plt\n",
    "from yolov5 import Yolov5\n",
    "import json"
   ]
  },
  {
   "cell_type": "code",
   "execution_count": 2,
   "metadata": {},
   "outputs": [],
   "source": [
    "max_per_class_dict = {'gold_mine': 7, \n",
    "                      'elx_mine': 7,\n",
    "                      'dark_mine': 3, \n",
    "                      'th': 1, \n",
    "                      'eagle': 1, \n",
    "                      'air_def': 4, \n",
    "                      'inferno': 3, \n",
    "                      'xbow': 4, \n",
    "                      'wiz_tower': 5, \n",
    "                      'bomb_tower': 2, \n",
    "                      'air_sweeper': 2, \n",
    "                      'cannon': 7, \n",
    "                      'mortar': 4, \n",
    "                      'archer_tower': 8, \n",
    "                      'queen': 1, \n",
    "                      'king': 1, \n",
    "                      'warden': 1, \n",
    "                      'gold_storage': 4, \n",
    "                      'elx_storage': 4, \n",
    "                      'dark_storage': 1, \n",
    "                      'cc': 1,\n",
    "                      'scatter':2,\n",
    "                      'champ':1}"
   ]
  },
  {
   "cell_type": "code",
   "execution_count": 3,
   "metadata": {
    "scrolled": true
   },
   "outputs": [
    {
     "name": "stdout",
     "output_type": "stream",
     "text": [
      "Using CUDA device0 _CudaDeviceProperties(name='GeForce GTX 1080 Ti', total_memory=11264MB)\n",
      "\n",
      "Fusing layers... Model Summary: 188 layers, 2.15575e+07 parameters, 2.00672e+07 gradients\n"
     ]
    }
   ],
   "source": [
    "yolov5 = Yolov5('runs/exp22/weights/best.pt', device='0', conf_thres=0.5)"
   ]
  },
  {
   "cell_type": "code",
   "execution_count": null,
   "metadata": {},
   "outputs": [],
   "source": [
    "print(yolov5)"
   ]
  },
  {
   "cell_type": "code",
   "execution_count": null,
   "metadata": {},
   "outputs": [],
   "source": [
    "#zidane_image = cv2.imread('inference/images/zidane.jpg')\n",
    "clash_img = cv2.imread(r'data/new/3kMvc2p69AE%00%00%05.jpg')\n",
    "clash_img.shape"
   ]
  },
  {
   "cell_type": "code",
   "execution_count": null,
   "metadata": {},
   "outputs": [],
   "source": [
    "yolov5.predict(clash_img, max_objects=max_per_class_dict)"
   ]
  },
  {
   "cell_type": "code",
   "execution_count": null,
   "metadata": {},
   "outputs": [],
   "source": [
    "plt.imshow(cv2.cvtColor(zidane_image, cv2.COLOR_BGR2RGB))\n",
    "plt.show()"
   ]
  },
  {
   "cell_type": "code",
   "execution_count": null,
   "metadata": {},
   "outputs": [],
   "source": [
    "result = yolov5.predict(clash_img, draw_bndbox=True)"
   ]
  },
  {
   "cell_type": "code",
   "execution_count": null,
   "metadata": {},
   "outputs": [],
   "source": [
    "plt.imshow(cv2.cvtColor(zidane_image, cv2.COLOR_BGR2RGB))\n",
    "plt.show()"
   ]
  },
  {
   "cell_type": "code",
   "execution_count": null,
   "metadata": {},
   "outputs": [],
   "source": [
    "zidane_image = cv2.imread('inference/images/zidane.jpg')\n",
    "a_batch = [zidane_image, zidane_image]"
   ]
  },
  {
   "cell_type": "code",
   "execution_count": null,
   "metadata": {},
   "outputs": [],
   "source": [
    "yolov5.predict_batch(a_batch)"
   ]
  },
  {
   "cell_type": "code",
   "execution_count": null,
   "metadata": {},
   "outputs": [],
   "source": [
    "yolov5.predict_from_path_to_path(bndbox_format='labelimg')"
   ]
  },
  {
   "cell_type": "code",
   "execution_count": 212,
   "metadata": {},
   "outputs": [
    {
     "name": "stdout",
     "output_type": "stream",
     "text": [
      "image 1/68 F:\\yolov5\\data\\new\\videocapture_20200904_215946_995283_0_0.jpg: rejected gold_storage conf 0.8639669418334961\n",
      "rejected king conf 0.7741076946258545\n",
      "image 2/68 F:\\yolov5\\data\\new\\videocapture_20200904_221904_927804_13_12.jpg: rejected inferno conf 0.7103171348571777\n",
      "rejected king conf 0.6375656127929688\n",
      "image 3/68 F:\\yolov5\\data\\new\\videocapture_20200904_221904_927804_14_16.jpg: rejected inferno conf 0.7013969421386719\n",
      "image 4/68 F:\\yolov5\\data\\new\\videocapture_20200904_221904_927804_15_19.jpg: image 5/68 F:\\yolov5\\data\\new\\videocapture_20200904_221904_927804_16_45.jpg: rejected cannon conf 0.8794093132019043\n",
      "image 6/68 F:\\yolov5\\data\\new\\videocapture_20200904_221904_927804_18_5.jpg: rejected air_def conf 0.5485701560974121\n",
      "image 7/68 F:\\yolov5\\data\\new\\videocapture_20200904_221904_927804_19_37.jpg: rejected gold_storage conf 0.626800537109375\n",
      "image 8/68 F:\\yolov5\\data\\new\\videocapture_20200904_221904_927804_21_2.jpg: image 9/68 F:\\yolov5\\data\\new\\videocapture_20200904_221904_927804_22_32.jpg: image 10/68 F:\\yolov5\\data\\new\\videocapture_20200904_221904_927804_24_1.jpg: rejected gold_mine conf 0.8437972068786621\n",
      "image 11/68 F:\\yolov5\\data\\new\\videocapture_20200904_221904_927804_25_15.jpg: rejected archer_tower conf 0.561211109161377\n",
      "image 12/68 F:\\yolov5\\data\\new\\videocapture_20200904_221904_927804_26_13.jpg: rejected bomb_tower conf 0.7715892791748047\n",
      "image 13/68 F:\\yolov5\\data\\new\\videocapture_20200904_221904_927804_27_18.jpg: image 14/68 F:\\yolov5\\data\\new\\videocapture_20200904_222803_495030_14_56.jpg: rejected mortar conf 0.7228317260742188\n",
      "image 15/68 F:\\yolov5\\data\\new\\videocapture_20200904_222803_495030_16_19.jpg: rejected elx_mine conf 0.652559757232666\n",
      "image 16/68 F:\\yolov5\\data\\new\\videocapture_20200904_222803_495030_17_53.jpg: rejected dark_storage conf 0.7567179203033447\n",
      "image 17/68 F:\\yolov5\\data\\new\\videocapture_20200904_222803_495030_19_25.jpg: image 18/68 F:\\yolov5\\data\\new\\videocapture_20200904_222803_495030_20_52.jpg: image 19/68 F:\\yolov5\\data\\new\\videocapture_20200904_222803_495030_22_26.jpg: image 20/68 F:\\yolov5\\data\\new\\videocapture_20200905_210012_834824_not_triple_15_4.jpg: rejected mortar conf 0.6038146018981934\n",
      "image 21/68 F:\\yolov5\\data\\new\\videocapture_20200905_210012_834824_not_triple_19_19.jpg: image 22/68 F:\\yolov5\\data\\new\\videocapture_20200905_210012_834824_not_triple_3_39.jpg: rejected cc conf 0.5497403144836426\n",
      "image 23/68 F:\\yolov5\\data\\new\\videocapture_20200905_212247_394465_not_triple_0_5.jpg: rejected cc conf 0.5776405334472656\n",
      "image 24/68 F:\\yolov5\\data\\new\\videocapture_20200905_212247_394465_not_triple_7_20.jpg: image 25/68 F:\\yolov5\\data\\new\\videocapture_20200905_213219_177724_0_0.jpg: image 26/68 F:\\yolov5\\data\\new\\videocapture_20200905_213811_611506_not_triple_0_25.jpg: rejected cannon conf 0.8272452354431152\n",
      "rejected cc conf 0.6151161193847656\n",
      "rejected warden conf 0.5991575717926025\n",
      "rejected mortar conf 0.5066823959350586\n",
      "image 27/68 F:\\yolov5\\data\\new\\videocapture_20200905_213811_611506_not_triple_2_35.jpg: image 28/68 F:\\yolov5\\data\\new\\videocapture_20200905_213811_611506_not_triple_4_42.jpg: rejected cannon conf 0.8160591125488281\n",
      "rejected cc conf 0.7147026062011719\n",
      "rejected gold_storage conf 0.6564903259277344\n",
      "image 29/68 F:\\yolov5\\data\\new\\videocapture_20200905_214610_186403_0_22.jpg: image 30/68 F:\\yolov5\\data\\new\\videocapture_20200905_214610_186403_2_51.jpg: image 31/68 F:\\yolov5\\data\\new\\videocapture_20200905_214610_186403_8_45.jpg: rejected xbow conf 0.7710378170013428\n",
      "rejected elx_mine conf 0.5519986152648926\n",
      "image 32/68 F:\\yolov5\\data\\new\\videocapture_20200905_214723_977497_2_51.jpg: image 33/68 F:\\yolov5\\data\\new\\videocapture_20200905_214723_977497_5_26.jpg: rejected king conf 0.5380039215087891\n",
      "image 34/68 F:\\yolov5\\data\\new\\videocapture_20200907_052020_829796_not_triple_0_25.jpg: rejected king conf 0.8031094074249268\n",
      "rejected air_def conf 0.7300384044647217\n",
      "image 35/68 F:\\yolov5\\data\\new\\videocapture_20200907_052020_829796_not_triple_2_47.jpg: rejected cannon conf 0.6628293991088867\n",
      "image 36/68 F:\\yolov5\\data\\new\\videocapture_20200907_052020_829796_not_triple_5_46.jpg: image 37/68 F:\\yolov5\\data\\new\\videocapture_20200907_052259_548701_not_triple_3_35.jpg: rejected wiz_tower conf 0.5620336532592773\n",
      "image 38/68 F:\\yolov5\\data\\new\\videocapture_20200907_052259_548701_not_triple_5_50.jpg: rejected elx_mine conf 0.6449453830718994\n",
      "rejected gold_storage conf 0.5009281635284424\n",
      "image 39/68 F:\\yolov5\\data\\new\\videocapture_20200907_052459_120619_not_triple_0_52.jpg: image 40/68 F:\\yolov5\\data\\new\\videocapture_20200907_052459_120619_not_triple_13_14.jpg: image 41/68 F:\\yolov5\\data\\new\\videocapture_20200907_052459_120619_not_triple_15_37.jpg: rejected gold_storage conf 0.5063166618347168\n",
      "image 42/68 F:\\yolov5\\data\\new\\videocapture_20200907_052459_120619_not_triple_7_16.jpg: image 43/68 F:\\yolov5\\data\\new\\videocapture_20200907_054607_050991_0_22.jpg: image 44/68 F:\\yolov5\\data\\new\\videocapture_20200907_054607_050991_3_11.jpg: image 45/68 F:\\yolov5\\data\\new\\videocapture_20200907_054607_050991_5_54.jpg: rejected dark_mine conf 0.5085687637329102\n",
      "image 46/68 F:\\yolov5\\data\\new\\videocapture_20200907_054607_050991_8_18.jpg: rejected elx_storage conf 0.5459861755371094\n",
      "image 47/68 F:\\yolov5\\data\\new\\videocapture_20200907_054856_446267_0_22.jpg: image 48/68 F:\\yolov5\\data\\new\\videocapture_20200907_054856_446267_3_25.jpg: rejected inferno conf 0.57208251953125\n",
      "image 49/68 F:\\yolov5\\data\\new\\videocapture_20200907_054856_446267_6_12.jpg: rejected mortar conf 0.8092761039733887\n",
      "image 50/68 F:\\yolov5\\data\\new\\videocapture_20200907_054856_446267_9_5.jpg: rejected dark_mine conf 0.7039358615875244\n",
      "image 51/68 F:\\yolov5\\data\\new\\videocapture_20200907_225411_576014_not_triple_10_30.jpg: image 52/68 F:\\yolov5\\data\\new\\videocapture_20200907_225411_576014_not_triple_16_2.jpg: image 53/68 F:\\yolov5\\data\\new\\videocapture_20200907_225411_576014_not_triple_18_35.jpg: image 54/68 F:\\yolov5\\data\\new\\videocapture_20200907_225411_576014_not_triple_2_53.jpg: image 55/68 F:\\yolov5\\data\\new\\videocapture_20200907_225411_576014_not_triple_5_33.jpg: image 56/68 F:\\yolov5\\data\\new\\videocapture_20200907_225411_576014_not_triple_7_57.jpg: rejected mortar conf 0.6993541717529297\n",
      "image 57/68 F:\\yolov5\\data\\new\\videocapture_20200907_232022_724921_not_triple_0_5.jpg: rejected cc conf 0.6870334148406982\n",
      "rejected archer_tower conf 0.5304794311523438\n",
      "rejected elx_mine conf 0.5217127799987793\n",
      "image 58/68 F:\\yolov5\\data\\new\\videocapture_20200907_232730_100361_11_24.jpg: rejected dark_storage conf 0.5712954998016357\n",
      "image 59/68 F:\\yolov5\\data\\new\\videocapture_20200907_232730_100361_13_45.jpg: rejected archer_tower conf 0.6455206871032715\n",
      "rejected elx_storage conf 0.6390893459320068\n",
      "rejected air_def conf 0.5102269649505615\n",
      "image 60/68 F:\\yolov5\\data\\new\\videocapture_20200907_232730_100361_16_27.jpg: rejected cannon conf 0.5876693725585938\n",
      "image 61/68 F:\\yolov5\\data\\new\\videocapture_20200907_232730_100361_19_30.jpg: image 62/68 F:\\yolov5\\data\\new\\videocapture_20200907_232730_100361_21_13.jpg: image 63/68 F:\\yolov5\\data\\new\\videocapture_20200907_232730_100361_23_56.jpg: rejected air_def conf 0.8514232635498047\n",
      "rejected xbow conf 0.5785489082336426\n",
      "image 64/68 F:\\yolov5\\data\\new\\videocapture_20200907_233450_039569_not_triple_0_0.jpg: rejected mortar conf 0.5486607551574707\n",
      "image 65/68 F:\\yolov5\\data\\new\\videocapture_20200907_234748_759029_0_22.jpg: image 66/68 F:\\yolov5\\data\\new\\videocapture_20200907_234748_759029_3_19.jpg: rejected eagle conf 0.5073080062866211\n",
      "image 67/68 F:\\yolov5\\data\\new\\videocapture_20200907_234748_759029_6_35.jpg: image 68/68 F:\\yolov5\\data\\new\\videocapture_20200907_234748_759029_9_29.jpg: "
     ]
    }
   ],
   "source": [
    "yolov5.predict_from_path_to_path(from_path='F:/yolov5/data/new', to_path='F:/yolov5/data/new', max_objects=max_per_class_dict)"
   ]
  },
  {
   "cell_type": "code",
   "execution_count": null,
   "metadata": {},
   "outputs": [],
   "source": [
    "import os \n",
    "import requests\n",
    "import time\n",
    "import base64\n",
    "\n",
    "API = 'http://192.168.2.151:5001/'\n",
    "#API = 'http://127.0.0.2:5001/'\n",
    "\n",
    "with open('data/new/3kMvc2p69AE%00%00%05.jpg', 'rb') as reader:\n",
    "    image = reader.read()\n",
    "\n",
    "img64_bytes = base64.b64encode(image)\n",
    "img64_string = img64_bytes.decode('utf-8')\n",
    "post_data = {'encoded_string': img64_string}\n",
    "\n",
    "headers = {'clash-api-key': 'xxxxxxxxxxddddddddddtttttttttt12345'}\n"
   ]
  },
  {
   "cell_type": "code",
   "execution_count": null,
   "metadata": {},
   "outputs": [],
   "source": [
    "timeit = time.time()\n",
    "\n",
    "for i in range(1):\n",
    "    valid_response = requests.post(f'{API}/upload', json=post_data, headers=headers)\n",
    "print(valid_response.text)\n",
    "print(time.time()-timeit)"
   ]
  },
  {
   "cell_type": "code",
   "execution_count": null,
   "metadata": {},
   "outputs": [],
   "source": [
    "requests.post(f'{API}/upload').status_code"
   ]
  },
  {
   "cell_type": "code",
   "execution_count": 25,
   "metadata": {},
   "outputs": [],
   "source": [
    "import os\n",
    "import xml.etree.cElementTree as ET\n",
    "from tqdm import tqdm"
   ]
  },
  {
   "cell_type": "code",
   "execution_count": 8,
   "metadata": {},
   "outputs": [],
   "source": [
    "all_files = os.listdir('E:/YoutubeFrameGrabber/new_vids')"
   ]
  },
  {
   "cell_type": "code",
   "execution_count": 9,
   "metadata": {},
   "outputs": [],
   "source": [
    "triage = []\n",
    "for file in all_files:\n",
    "    if file.endswith('.jpg'):\n",
    "        if file.replace('.jpg', '.xml') not in all_files:\n",
    "            triage.append(file)"
   ]
  },
  {
   "cell_type": "code",
   "execution_count": 10,
   "metadata": {},
   "outputs": [
    {
     "data": {
      "text/plain": [
       "813"
      ]
     },
     "execution_count": 10,
     "metadata": {},
     "output_type": "execute_result"
    }
   ],
   "source": [
    "len(triage)"
   ]
  },
  {
   "cell_type": "code",
   "execution_count": 218,
   "metadata": {},
   "outputs": [],
   "source": [
    "src_path = 'E:/YoutubeFrameGrabber/good_quality/'\n",
    "#src_path = 'F:/yolov5/data/new/'\n",
    "triage_path = 'E:/YoutubeFrameGrabber/triage/'\n",
    "#for file in triage:\n",
    "#    os.rename(f\"{src_path}{file}\", f\"{triage_path}{file}\")"
   ]
  },
  {
   "cell_type": "code",
   "execution_count": 219,
   "metadata": {},
   "outputs": [],
   "source": [
    "all_files = os.listdir('E:/YoutubeFrameGrabber/good_quality')\n",
    "#all_files = os.listdir('F:/yolov5/data/new')"
   ]
  },
  {
   "cell_type": "code",
   "execution_count": 220,
   "metadata": {},
   "outputs": [],
   "source": [
    "quality_control_dict = {'th': 1, \n",
    "                      'eagle': 1, \n",
    "                      'air_def': 4, \n",
    "                      'inferno': 3, \n",
    "                      'xbow': 4, \n",
    "                      'wiz_tower': 5, \n",
    "                      'air_sweeper': 2, \n",
    "                      'queen': 1, \n",
    "                      'king': 1, \n",
    "                      'warden': 1, \n",
    "                      'cc': 1,\n",
    "                      'scatter':2,\n",
    "                      'champ':1}\n",
    "\n",
    "quality_control_dict = {'gold_mine': 7, \n",
    "                      'elx_mine': 7,\n",
    "                      'dark_mine': 3, \n",
    "                      'th': 1, \n",
    "                      'eagle': 1, \n",
    "                      'air_def': 4, \n",
    "                      'inferno': 3, \n",
    "                      'xbow': 4, \n",
    "                      'wiz_tower': 5, \n",
    "                      'bomb_tower': 2, \n",
    "                      'air_sweeper': 2, \n",
    "                      'cannon': 7, \n",
    "                      'mortar': 4, \n",
    "                      'archer_tower': 8, \n",
    "                      'queen': 1, \n",
    "                      'king': 1, \n",
    "                      'warden': 1, \n",
    "                      'gold_storage': 4, \n",
    "                      'elx_storage': 4, \n",
    "                      'dark_storage': 1, \n",
    "                      'cc': 1,\n",
    "                      'scatter':2,\n",
    "                      'champ':1}"
   ]
  },
  {
   "cell_type": "code",
   "execution_count": 221,
   "metadata": {},
   "outputs": [
    {
     "name": "stderr",
     "output_type": "stream",
     "text": [
      "100%|███████████████████████████████████████████████████████████████████████████| 10200/10200 [00:36<00:00, 279.51it/s]\n"
     ]
    }
   ],
   "source": [
    "good_list = []\n",
    "for file in tqdm(all_files):\n",
    "    if file.endswith('.xml'):\n",
    "\n",
    "        root = ET.parse(f'{src_path}{file}').getroot()\n",
    "        objects = []\n",
    "        \n",
    "        th_level = None\n",
    "        current_control_dict = {'gold_mine': 0, \n",
    "                      'elx_mine': 0,\n",
    "                      'dark_mine': 0, \n",
    "                      'th': 0, \n",
    "                      'eagle': 0, \n",
    "                      'air_def': 0, \n",
    "                      'inferno': 0, \n",
    "                      'xbow': 0, \n",
    "                      'wiz_tower': 0, \n",
    "                      'bomb_tower': 0, \n",
    "                      'air_sweeper': 0, \n",
    "                      'cannon': 0, \n",
    "                      'mortar': 0, \n",
    "                      'archer_tower': 0, \n",
    "                      'queen': 0, \n",
    "                      'king': 0, \n",
    "                      'warden': 0, \n",
    "                      'gold_storage': 0, \n",
    "                      'elx_storage': 0, \n",
    "                      'dark_storage': 0, \n",
    "                      'cc': 0,\n",
    "                      'scatter':0,\n",
    "                      'champ':0}\n",
    "        \n",
    "#         obj_list = root.findall('object')\n",
    "        \n",
    "#         if len(obj_list) < 60:\n",
    "#             good_list.append(file)\n",
    "            \n",
    "        for obj in root.findall('object'):\n",
    "            if obj.find('name').text in current_control_dict:\n",
    "                current_control_dict[obj.find('name').text] += 1\n",
    "                \n",
    "        if current_control_dict == quality_control_dict:\n",
    "            good_list.append(file)"
   ]
  },
  {
   "cell_type": "code",
   "execution_count": 222,
   "metadata": {},
   "outputs": [
    {
     "data": {
      "text/plain": [
       "1077"
      ]
     },
     "execution_count": 222,
     "metadata": {},
     "output_type": "execute_result"
    }
   ],
   "source": [
    "len(good_list)"
   ]
  },
  {
   "cell_type": "code",
   "execution_count": 223,
   "metadata": {},
   "outputs": [
    {
     "name": "stderr",
     "output_type": "stream",
     "text": [
      "100%|████████████████████████████████████████████████████████████████████████████| 1077/1077 [00:00<00:00, 2236.64it/s]\n"
     ]
    }
   ],
   "source": [
    "src_path = 'E:/YoutubeFrameGrabber/good_quality/'\n",
    "\n",
    "#good_quality = 'E:/YoutubeFrameGrabber/missing/'\n",
    "good_quality = 'E:/YoutubeFrameGrabber/pre_approval/'\n",
    "#good_quality = 'F:/yolov5/data/missing/'\n",
    "for file in tqdm(good_list):\n",
    "    os.rename(f\"{src_path}{file}\", f\"{good_quality}{file}\")\n",
    "    os.rename(f\"{src_path}{file.replace('.xml', '.jpg')}\", f\"{good_quality}{file.replace('.xml', '.jpg')}\")"
   ]
  },
  {
   "cell_type": "code",
   "execution_count": null,
   "metadata": {},
   "outputs": [],
   "source": [
    "current_control_dict = {'th': 0, \n",
    "                      'eagle': 0, \n",
    "                      'air_def': 0, \n",
    "                      'inferno': 0, \n",
    "                      'xbow': 0, \n",
    "                      'wiz_tower': 0, \n",
    "                      'air_sweeper': 0, \n",
    "                      'queen': 0, \n",
    "                      'king': 0, \n",
    "                      'warden': 0, \n",
    "                      'cc': 0,\n",
    "                      'scatter': 0,\n",
    "                      'champ': 0}"
   ]
  },
  {
   "cell_type": "code",
   "execution_count": 175,
   "metadata": {},
   "outputs": [
    {
     "data": {
      "text/plain": [
       "['vimeo%429092180%d62f8fded0.xml',\n",
       " 'vimeo%429807657%dde598affa.xml',\n",
       " 'vimeo%430155865%9ba10d7ac5.xml',\n",
       " 'vimeo%430819409%36dc0b0088.xml',\n",
       " 'vimeo%431941395%6d98fd2f2d.xml',\n",
       " 'vimeo%431941739%342725e484.xml',\n",
       " 'vimeo%433687045%83cbf51b9d.xml',\n",
       " 'vimeo%433687045.xml',\n",
       " 'vimeo%433689940%ae456201ea.xml',\n",
       " 'vimeo%433828519%c92c2cc102.xml',\n",
       " 'vimeo%438385746%f048651fdb.xml',\n",
       " 'vimeo%439854872%1dec0db1d8.xml']"
      ]
     },
     "execution_count": 175,
     "metadata": {},
     "output_type": "execute_result"
    }
   ],
   "source": []
  },
  {
   "cell_type": "code",
   "execution_count": 177,
   "metadata": {},
   "outputs": [
    {
     "name": "stdout",
     "output_type": "stream",
     "text": [
      "https://vimeo.com/429092180/d62f8fded0\n",
      "https://vimeo.com/429807657/dde598affa\n",
      "https://vimeo.com/430155865/9ba10d7ac5\n",
      "https://vimeo.com/430819409/36dc0b0088\n",
      "https://vimeo.com/431941395/6d98fd2f2d\n",
      "https://vimeo.com/431941739/342725e484\n",
      "https://vimeo.com/433687045/83cbf51b9d\n",
      "https://vimeo.com/433687045\n",
      "https://vimeo.com/433689940/ae456201ea\n",
      "https://vimeo.com/433828519/c92c2cc102\n",
      "https://vimeo.com/438385746/f048651fdb\n",
      "https://vimeo.com/439854872/1dec0db1d8\n"
     ]
    }
   ],
   "source": []
  },
  {
   "cell_type": "code",
   "execution_count": null,
   "metadata": {},
   "outputs": [],
   "source": []
  },
  {
   "cell_type": "code",
   "execution_count": null,
   "metadata": {},
   "outputs": [],
   "source": []
  },
  {
   "cell_type": "code",
   "execution_count": null,
   "metadata": {},
   "outputs": [],
   "source": []
  }
 ],
 "metadata": {
  "kernelspec": {
   "display_name": "yolov5",
   "language": "python",
   "name": "yolov5"
  },
  "language_info": {
   "codemirror_mode": {
    "name": "ipython",
    "version": 3
   },
   "file_extension": ".py",
   "mimetype": "text/x-python",
   "name": "python",
   "nbconvert_exporter": "python",
   "pygments_lexer": "ipython3",
   "version": "3.7.7"
  }
 },
 "nbformat": 4,
 "nbformat_minor": 4
}
