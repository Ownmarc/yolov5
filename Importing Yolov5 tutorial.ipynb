{
 "cells": [
  {
   "cell_type": "code",
   "execution_count": 1,
   "metadata": {},
   "outputs": [],
   "source": [
    "import cv2\n",
    "from matplotlib import pyplot as plt\n",
    "from yolov5 import Yolov5"
   ]
  },
  {
   "cell_type": "code",
   "execution_count": 2,
   "metadata": {},
   "outputs": [],
   "source": [
    "max_per_class_dict = {'gold_mine': 7, \n",
    "                      'elx_mine': 7,\n",
    "                      'dark_mine': 3, \n",
    "                      'th': 1, \n",
    "                      'eagle': 1, \n",
    "                      'air_def': 4, \n",
    "                      'inferno': 3, \n",
    "                      'xbow': 4, \n",
    "                      'wiz_tower': 5, \n",
    "                      'bomb_tower': 2, \n",
    "                      'air_sweeper': 2, \n",
    "                      'cannon': 7, \n",
    "                      'mortar': 4, \n",
    "                      'archer_tower': 8, \n",
    "                      'queen': 1, \n",
    "                      'king': 1, \n",
    "                      'warden': 1, \n",
    "                      'gold_storage': 4, \n",
    "                      'elx_storage': 4, \n",
    "                      'dark_storage': 1, \n",
    "                      'cc': 1,\n",
    "                      'scatter':2,\n",
    "                      'champ':1}"
   ]
  },
  {
   "cell_type": "code",
   "execution_count": 3,
   "metadata": {
    "scrolled": true
   },
   "outputs": [
    {
     "name": "stdout",
     "output_type": "stream",
     "text": [
      "Using CUDA device0 _CudaDeviceProperties(name='GeForce GTX 1080 Ti', total_memory=11264MB)\n",
      "\n",
      "Fusing layers... Model Summary: 188 layers, 2.15575e+07 parameters, 2.00672e+07 gradients\n"
     ]
    }
   ],
   "source": [
    "yolov5 = Yolov5('runs/exp22/weights/best.pt', device='0', conf_thres=0.5)"
   ]
  },
  {
   "cell_type": "code",
   "execution_count": null,
   "metadata": {},
   "outputs": [],
   "source": [
    "print(yolov5)"
   ]
  },
  {
   "cell_type": "code",
   "execution_count": null,
   "metadata": {},
   "outputs": [],
   "source": [
    "#zidane_image = cv2.imread('inference/images/zidane.jpg')\n",
    "clash_img = cv2.imread(r'data/new/3kMvc2p69AE%00%00%05.jpg')\n",
    "clash_img.shape"
   ]
  },
  {
   "cell_type": "code",
   "execution_count": null,
   "metadata": {},
   "outputs": [],
   "source": [
    "yolov5.predict(clash_img, max_objects=max_per_class_dict)"
   ]
  },
  {
   "cell_type": "code",
   "execution_count": null,
   "metadata": {},
   "outputs": [],
   "source": [
    "plt.imshow(cv2.cvtColor(zidane_image, cv2.COLOR_BGR2RGB))\n",
    "plt.show()"
   ]
  },
  {
   "cell_type": "code",
   "execution_count": null,
   "metadata": {},
   "outputs": [],
   "source": [
    "result = yolov5.predict(clash_img, draw_bndbox=True)"
   ]
  },
  {
   "cell_type": "code",
   "execution_count": null,
   "metadata": {},
   "outputs": [],
   "source": [
    "plt.imshow(cv2.cvtColor(zidane_image, cv2.COLOR_BGR2RGB))\n",
    "plt.show()"
   ]
  },
  {
   "cell_type": "code",
   "execution_count": null,
   "metadata": {},
   "outputs": [],
   "source": [
    "zidane_image = cv2.imread('inference/images/zidane.jpg')\n",
    "a_batch = [zidane_image, zidane_image]"
   ]
  },
  {
   "cell_type": "code",
   "execution_count": null,
   "metadata": {},
   "outputs": [],
   "source": [
    "yolov5.predict_batch(a_batch)"
   ]
  },
  {
   "cell_type": "code",
   "execution_count": null,
   "metadata": {},
   "outputs": [],
   "source": [
    "yolov5.predict_from_path_to_path(bndbox_format='labelimg')"
   ]
  },
  {
   "cell_type": "code",
   "execution_count": 4,
   "metadata": {},
   "outputs": [
    {
     "name": "stdout",
     "output_type": "stream",
     "text": [
      "image 1/104 F:\\yolov5\\data\\new\\3kMvc2p69AE%00%00%05.jpg: rejected elx_storage conf 0.8096671104431152\n",
      "image 2/104 F:\\yolov5\\data\\new\\3kMvc2p69AE%00%02%16.jpg: rejected xbow conf 0.7647364139556885\n",
      "image 3/104 F:\\yolov5\\data\\new\\3kMvc2p69AE%00%04%18.jpg: rejected cc conf 0.599576473236084\n",
      "image 4/104 F:\\yolov5\\data\\new\\3kMvc2p69AE%00%06%11.jpg: rejected archer_tower conf 0.8590106964111328\n",
      "image 5/104 F:\\yolov5\\data\\new\\3kMvc2p69AE%00%09%00.jpg: image 6/104 F:\\yolov5\\data\\new\\3kMvc2p69AE%00%11%10.jpg: image 7/104 F:\\yolov5\\data\\new\\3kMvc2p69AE%00%13%49.jpg: image 8/104 F:\\yolov5\\data\\new\\3kMvc2p69AE%00%16%31.jpg: rejected king conf 0.7455854415893555\n",
      "rejected cannon conf 0.7324466705322266\n",
      "rejected wiz_tower conf 0.6156749725341797\n",
      "image 9/104 F:\\yolov5\\data\\new\\5XzwJsY8kzI%00%02%33.jpg: image 10/104 F:\\yolov5\\data\\new\\5XzwJsY8kzI%00%06%34.jpg: rejected cannon conf 0.7172784805297852\n",
      "image 11/104 F:\\yolov5\\data\\new\\5XzwJsY8kzI%00%09%20.jpg: rejected king conf 0.733464241027832\n",
      "rejected queen conf 0.6365716457366943\n",
      "image 12/104 F:\\yolov5\\data\\new\\7UUfYhWN5-E%00%02%45.jpg: image 13/104 F:\\yolov5\\data\\new\\7UUfYhWN5-E%00%06%36.jpg: rejected xbow conf 0.6144332885742188\n",
      "rejected cannon conf 0.5543289184570312\n",
      "image 14/104 F:\\yolov5\\data\\new\\CGfnMhI2AlM%00%00%06.jpg: image 15/104 F:\\yolov5\\data\\new\\CGfnMhI2AlM%00%02%26.jpg: rejected cannon conf 0.6892967224121094\n",
      "image 16/104 F:\\yolov5\\data\\new\\CGfnMhI2AlM%00%05%15.jpg: rejected bomb_tower conf 0.7289736270904541\n",
      "image 17/104 F:\\yolov5\\data\\new\\CGfnMhI2AlM%00%07%39.jpg: image 18/104 F:\\yolov5\\data\\new\\CGfnMhI2AlM%00%10%11.jpg: rejected dark_mine conf 0.5545978546142578\n",
      "rejected archer_tower conf 0.5040769577026367\n",
      "image 19/104 F:\\yolov5\\data\\new\\CGfnMhI2AlM%00%12%23.jpg: rejected cc conf 0.8754339218139648\n",
      "rejected air_sweeper conf 0.5060768127441406\n",
      "image 20/104 F:\\yolov5\\data\\new\\CGfnMhI2AlM%00%15%00.jpg: image 21/104 F:\\yolov5\\data\\new\\CGfnMhI2AlM%00%17%08.jpg: rejected king conf 0.6546144485473633\n",
      "image 22/104 F:\\yolov5\\data\\new\\CGfnMhI2AlM%00%19%45.jpg: image 23/104 F:\\yolov5\\data\\new\\Id0GYI-FERg&%00%00%09.jpg: image 24/104 F:\\yolov5\\data\\new\\Id0GYI-FERg&%00%02%55.jpg: image 25/104 F:\\yolov5\\data\\new\\Id0GYI-FERg&%00%05%35.jpg: image 26/104 F:\\yolov5\\data\\new\\Id0GYI-FERg&%00%08%00.jpg: rejected wiz_tower conf 0.8770995140075684\n",
      "rejected king conf 0.7177999019622803\n",
      "rejected wiz_tower conf 0.6451199054718018\n",
      "rejected bomb_tower conf 0.5079069137573242\n",
      "image 27/104 F:\\yolov5\\data\\new\\Id0GYI-FERg&%00%10%32.jpg: rejected archer_tower conf 0.8062160015106201\n",
      "rejected xbow conf 0.5295181274414062\n",
      "image 28/104 F:\\yolov5\\data\\new\\Id0GYI-FERg&%00%13%02.jpg: rejected gold_storage conf 0.6246070861816406\n",
      "image 29/104 F:\\yolov5\\data\\new\\Id0GYI-FERg&%00%13%03.jpg: rejected gold_storage conf 0.5787091255187988\n",
      "image 30/104 F:\\yolov5\\data\\new\\Id0GYI-FERg&%00%15%38.jpg: rejected elx_mine conf 0.7572436332702637\n",
      "image 31/104 F:\\yolov5\\data\\new\\Id0GYI-FERg&%00%20%15.jpg: rejected bomb_tower conf 0.5091304779052734\n",
      "image 32/104 F:\\yolov5\\data\\new\\Id0GYI-FERg&%00%22%39.jpg: rejected scatter conf 0.8555703163146973\n",
      "rejected dark_mine conf 0.5192842483520508\n",
      "rejected mortar conf 0.505901575088501\n",
      "image 33/104 F:\\yolov5\\data\\new\\PPuaplgzm5Y%00%00%05.jpg: rejected mortar conf 0.6691205501556396\n",
      "rejected king conf 0.5855541229248047\n",
      "image 34/104 F:\\yolov5\\data\\new\\PPuaplgzm5Y%00%02%25.jpg: rejected gold_mine conf 0.7215118408203125\n",
      "image 35/104 F:\\yolov5\\data\\new\\PPuaplgzm5Y%00%05%09.jpg: rejected king conf 0.7477331161499023\n",
      "rejected king conf 0.7079267501831055\n",
      "image 36/104 F:\\yolov5\\data\\new\\PPuaplgzm5Y%00%07%41.jpg: image 37/104 F:\\yolov5\\data\\new\\PPuaplgzm5Y%00%10%04.jpg: rejected king conf 0.5473623275756836\n",
      "image 38/104 F:\\yolov5\\data\\new\\PPuaplgzm5Y%00%12%19.jpg: image 39/104 F:\\yolov5\\data\\new\\PPuaplgzm5Y%00%14%56.jpg: rejected king conf 0.6482734680175781\n",
      "rejected elx_mine conf 0.5705816745758057\n",
      "image 40/104 F:\\yolov5\\data\\new\\PPuaplgzm5Y%00%17%07.jpg: image 41/104 F:\\yolov5\\data\\new\\VUEitL9iGJI&%00%00%07.jpg: rejected dark_storage conf 0.6426382064819336\n",
      "image 42/104 F:\\yolov5\\data\\new\\VUEitL9iGJI&%00%02%40.jpg: rejected th conf 0.5124759674072266\n",
      "image 43/104 F:\\yolov5\\data\\new\\VUEitL9iGJI&%00%04%20.jpg: image 44/104 F:\\yolov5\\data\\new\\VUEitL9iGJI&%00%06%49.jpg: image 45/104 F:\\yolov5\\data\\new\\VUEitL9iGJI&%00%08%55.jpg: rejected king conf 0.5488812923431396\n",
      "image 46/104 F:\\yolov5\\data\\new\\VUEitL9iGJI&%00%11%16.jpg: image 47/104 F:\\yolov5\\data\\new\\VUEitL9iGJI&%00%13%32.jpg: rejected king conf 0.7874929904937744\n",
      "image 48/104 F:\\yolov5\\data\\new\\VUEitL9iGJI&%00%16%10.jpg: rejected cannon conf 0.7888691425323486\n",
      "rejected dark_storage conf 0.7284600734710693\n",
      "image 49/104 F:\\yolov5\\data\\new\\WZRmknvT1l8%00%00%09.jpg: image 50/104 F:\\yolov5\\data\\new\\WZRmknvT1l8%00%02%38.jpg: rejected king conf 0.6177606582641602\n",
      "image 51/104 F:\\yolov5\\data\\new\\WZRmknvT1l8%00%05%06.jpg: image 52/104 F:\\yolov5\\data\\new\\WZRmknvT1l8%00%07%32.jpg: image 53/104 F:\\yolov5\\data\\new\\WZRmknvT1l8%00%09%43.jpg: image 54/104 F:\\yolov5\\data\\new\\WZRmknvT1l8%00%12%26.jpg: rejected air_sweeper conf 0.6396312713623047\n",
      "rejected elx_storage conf 0.5894091129302979\n",
      "rejected cannon conf 0.5016846656799316\n",
      "image 55/104 F:\\yolov5\\data\\new\\WZRmknvT1l8%00%15%01.jpg: image 56/104 F:\\yolov5\\data\\new\\WZRmknvT1l8%00%17%21.jpg: image 57/104 F:\\yolov5\\data\\new\\WZRmknvT1l8%00%20%02.jpg: image 58/104 F:\\yolov5\\data\\new\\WZRmknvT1l8%00%22%03.jpg: rejected gold_storage conf 0.6281754970550537\n",
      "image 59/104 F:\\yolov5\\data\\new\\ZEDT8JjHQwY%00%00%03.jpg: rejected cannon conf 0.5675005912780762\n",
      "image 60/104 F:\\yolov5\\data\\new\\ZEDT8JjHQwY%00%02%20.jpg: image 61/104 F:\\yolov5\\data\\new\\ZEDT8JjHQwY%00%04%55.jpg: image 62/104 F:\\yolov5\\data\\new\\ZEDT8JjHQwY%00%06%57.jpg: rejected elx_mine conf 0.8233449459075928\n",
      "image 63/104 F:\\yolov5\\data\\new\\ZEDT8JjHQwY%00%09%37.jpg: rejected elx_storage conf 0.8362751007080078\n",
      "rejected elx_storage conf 0.51153564453125\n",
      "image 64/104 F:\\yolov5\\data\\new\\ZEDT8JjHQwY%00%12%15.jpg: rejected cannon conf 0.6397914886474609\n",
      "image 65/104 F:\\yolov5\\data\\new\\ZEDT8JjHQwY%00%14%25.jpg: rejected cc conf 0.5379331111907959\n",
      "image 66/104 F:\\yolov5\\data\\new\\ZEDT8JjHQwY%00%16%58.jpg: image 67/104 F:\\yolov5\\data\\new\\ZzzdROG8rG0%00%00%53.jpg: rejected king conf 0.6348209381103516\n",
      "rejected air_sweeper conf 0.5629756450653076\n",
      "image 68/104 F:\\yolov5\\data\\new\\ZzzdROG8rG0%00%07%56.jpg: rejected cannon conf 0.8668899536132812\n",
      "rejected cannon conf 0.5004844665527344\n",
      "image 69/104 F:\\yolov5\\data\\new\\bBR91OAXOaU%00%00%04.jpg: rejected cannon conf 0.8899240493774414\n",
      "image 70/104 F:\\yolov5\\data\\new\\bBR91OAXOaU%00%02%18.jpg: rejected archer_tower conf 0.7261228561401367\n",
      "image 71/104 F:\\yolov5\\data\\new\\bBR91OAXOaU%00%04%49.jpg: rejected dark_mine conf 0.6614670753479004\n",
      "image 72/104 F:\\yolov5\\data\\new\\bBR91OAXOaU%00%07%15.jpg: rejected cannon conf 0.7060527801513672\n",
      "image 73/104 F:\\yolov5\\data\\new\\bBR91OAXOaU%00%09%34.jpg: rejected cannon conf 0.7473535537719727\n",
      "rejected queen conf 0.5284175872802734\n",
      "image 74/104 F:\\yolov5\\data\\new\\bBR91OAXOaU%00%12%05.jpg: rejected gold_storage conf 0.6436915397644043\n",
      "image 75/104 F:\\yolov5\\data\\new\\bBR91OAXOaU%00%14%55.jpg: rejected dark_mine conf 0.5729026794433594\n",
      "rejected king conf 0.5723316669464111\n",
      "image 76/104 F:\\yolov5\\data\\new\\mPgxLKja_fg%00%00%07.jpg: rejected king conf 0.5877156257629395\n",
      "image 77/104 F:\\yolov5\\data\\new\\mPgxLKja_fg%00%02%22.jpg: rejected xbow conf 0.759594202041626\n",
      "rejected elx_mine conf 0.7412204742431641\n",
      "image 78/104 F:\\yolov5\\data\\new\\mPgxLKja_fg%00%05%07.jpg: image 79/104 F:\\yolov5\\data\\new\\mPgxLKja_fg%00%07%11.jpg: rejected xbow conf 0.5232954025268555\n",
      "image 80/104 F:\\yolov5\\data\\new\\mPgxLKja_fg%00%10%05.jpg: rejected cannon conf 0.8769078254699707\n",
      "image 81/104 F:\\yolov5\\data\\new\\mPgxLKja_fg%00%12%27.jpg: rejected gold_mine conf 0.8641598224639893\n",
      "image 82/104 F:\\yolov5\\data\\new\\mPgxLKja_fg%00%14%58.jpg: rejected king conf 0.5769920349121094\n",
      "image 83/104 F:\\yolov5\\data\\new\\mPgxLKja_fg%00%17%24.jpg: rejected air_def conf 0.6170501708984375\n",
      "rejected mortar conf 0.6080629825592041\n",
      "rejected wiz_tower conf 0.5247182846069336\n",
      "image 84/104 F:\\yolov5\\data\\new\\mPgxLKja_fg%00%19%50.jpg: rejected cannon conf 0.8639788627624512\n",
      "rejected king conf 0.6397271156311035\n",
      "rejected wiz_tower conf 0.5311870574951172\n",
      "rejected elx_mine conf 0.5045814514160156\n",
      "image 85/104 F:\\yolov5\\data\\new\\tua7E8fc90w%00%00%11.jpg: rejected cannon conf 0.8238787651062012\n"
     ]
    },
    {
     "name": "stdout",
     "output_type": "stream",
     "text": [
      "image 86/104 F:\\yolov5\\data\\new\\tua7E8fc90w%00%02%38.jpg: image 87/104 F:\\yolov5\\data\\new\\tua7E8fc90w%00%04%27.jpg: rejected dark_mine conf 0.6160926818847656\n",
      "image 88/104 F:\\yolov5\\data\\new\\tua7E8fc90w%00%06%43.jpg: rejected king conf 0.6755943298339844\n",
      "image 89/104 F:\\yolov5\\data\\new\\tua7E8fc90w%00%09%14.jpg: rejected gold_storage conf 0.6423053741455078\n",
      "rejected gold_storage conf 0.6023256778717041\n",
      "image 90/104 F:\\yolov5\\data\\new\\wWps9Wtaczc%00%00%12.jpg: rejected inferno conf 0.7823326587677002\n",
      "rejected dark_mine conf 0.736241340637207\n",
      "rejected gold_storage conf 0.7042741775512695\n",
      "image 91/104 F:\\yolov5\\data\\new\\wWps9Wtaczc%00%02%42.jpg: image 92/104 F:\\yolov5\\data\\new\\wWps9Wtaczc%00%05%30.jpg: image 93/104 F:\\yolov5\\data\\new\\wWps9Wtaczc%00%07%46.jpg: rejected cannon conf 0.6304492950439453\n",
      "image 94/104 F:\\yolov5\\data\\new\\wWps9Wtaczc%00%10%36.jpg: rejected th conf 0.6987543106079102\n",
      "rejected th conf 0.6647696495056152\n",
      "image 95/104 F:\\yolov5\\data\\new\\wWps9Wtaczc%00%12%55.jpg: rejected archer_tower conf 0.6271004676818848\n",
      "image 96/104 F:\\yolov5\\data\\new\\xl0n0_dYon4%00%00%14.jpg: rejected archer_tower conf 0.7220849990844727\n",
      "rejected mortar conf 0.6967735290527344\n",
      "rejected gold_storage conf 0.6113290786743164\n",
      "image 97/104 F:\\yolov5\\data\\new\\xl0n0_dYon4%00%02%36.jpg: image 98/104 F:\\yolov5\\data\\new\\xl0n0_dYon4%00%05%09.jpg: rejected king conf 0.8654980659484863\n",
      "rejected air_def conf 0.6717238426208496\n",
      "rejected cannon conf 0.5336751937866211\n",
      "image 99/104 F:\\yolov5\\data\\new\\xl0n0_dYon4%00%06%35.jpg: rejected cc conf 0.8768649101257324\n",
      "rejected cc conf 0.7160210609436035\n",
      "rejected elx_mine conf 0.6047701835632324\n",
      "rejected cannon conf 0.5208511352539062\n",
      "image 100/104 F:\\yolov5\\data\\new\\xl0n0_dYon4%00%08%30.jpg: rejected archer_tower conf 0.8960967063903809\n",
      "rejected eagle conf 0.5436029434204102\n",
      "image 101/104 F:\\yolov5\\data\\new\\xl0n0_dYon4%00%10%49.jpg: rejected mortar conf 0.8222293853759766\n",
      "rejected king conf 0.5473732948303223\n",
      "image 102/104 F:\\yolov5\\data\\new\\xl0n0_dYon4%00%13%00.jpg: rejected king conf 0.6014561653137207\n",
      "rejected mortar conf 0.5088043212890625\n",
      "image 103/104 F:\\yolov5\\data\\new\\xl0n0_dYon4%00%14%40.jpg: rejected scatter conf 0.8666486740112305\n",
      "rejected archer_tower conf 0.5541458129882812\n",
      "image 104/104 F:\\yolov5\\data\\new\\xl0n0_dYon4%00%16%47.jpg: rejected archer_tower conf 0.8374598026275635\n",
      "rejected archer_tower conf 0.8221032619476318\n",
      "rejected th conf 0.6263494491577148\n",
      "rejected gold_storage conf 0.5290050506591797\n"
     ]
    }
   ],
   "source": [
    "yolov5.predict_from_path_to_path(from_path='data/new', to_path='data/new', max_objects=max_per_class_dict)"
   ]
  },
  {
   "cell_type": "code",
   "execution_count": null,
   "metadata": {},
   "outputs": [],
   "source": [
    "import os \n",
    "import requests\n",
    "import time\n",
    "import base64\n",
    "\n",
    "API = 'http://192.168.2.151:5001/'\n",
    "API = 'http://127.0.2.0:5001/'\n",
    "\n",
    "with open('data/new/3kMvc2p69AE%00%00%05.jpg', 'rb') as reader:\n",
    "    image = reader.read()\n",
    "\n",
    "img64_bytes = base64.b64encode(image)\n",
    "img64_string = img64_bytes.decode('utf-8')\n",
    "post_data = {'encoded_string': img64_string}\n",
    "\n"
   ]
  },
  {
   "cell_type": "code",
   "execution_count": null,
   "metadata": {},
   "outputs": [],
   "source": [
    "timeit = time.time()\n",
    "for i in range(100):\n",
    "    valid_response = requests.post(f'{API}/upload', json=post_data)\n",
    "print(valid_response.text)\n",
    "print(time.time()-timeit)"
   ]
  },
  {
   "cell_type": "code",
   "execution_count": null,
   "metadata": {},
   "outputs": [],
   "source": []
  }
 ],
 "metadata": {
  "kernelspec": {
   "display_name": "yolov5",
   "language": "python",
   "name": "yolov5"
  },
  "language_info": {
   "codemirror_mode": {
    "name": "ipython",
    "version": 3
   },
   "file_extension": ".py",
   "mimetype": "text/x-python",
   "name": "python",
   "nbconvert_exporter": "python",
   "pygments_lexer": "ipython3",
   "version": "3.7.7"
  }
 },
 "nbformat": 4,
 "nbformat_minor": 4
}
